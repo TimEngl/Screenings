{
 "cells": [
  {
   "cell_type": "code",
   "execution_count": 821,
   "metadata": {},
   "outputs": [],
   "source": [
    "import requests\n",
    "from bs4 import BeautifulSoup\n",
    "import re\n",
    "import time\n",
    "from datetime import date\n",
    "import json\n",
    "import pprint\n",
    "\n",
    "url = \"http://www.oldtownmusichall.org/schedule.html\"\n",
    "content = requests.get(url).text\n",
    "\n",
    "soup = BeautifulSoup(content, 'html.parser')\n",
    "\n",
    "# newDictionary=json.loads(str(soup))\n",
    "\n",
    "main_table = soup.find(\"div\",attrs={'id':'concert-listings'})\n",
    "\n",
    "concerts = main_table.find_all(\"div\",class_=\"concert-block repeatable\")\n",
    "\n",
    "\n",
    "\n",
    "\n",
    "#details = concerts.find_all(\"div\",class_=\"filmcenter\",text=True,recursive=False)\n"
   ]
  },
  {
   "cell_type": "code",
   "execution_count": 822,
   "metadata": {},
   "outputs": [],
   "source": [
    "def my_event_parser(event):\n",
    "    print('hello {}'.format(x))\n",
    "    "
   ]
  },
  {
   "cell_type": "code",
   "execution_count": 823,
   "metadata": {},
   "outputs": [],
   "source": [
    "def find_event_calender_date(event):\n",
    "#     this returns a string ie. July\\xa020 - 21 - 22\n",
    "    return event.find(\"span\", style=\"font-size: large;\").text\n",
    "\n",
    "def find_event_time_day(event):\n",
    "#     this returns a string Friday 8:15pm, Saturday 2:30pm and 8:15pm, Sunday 2:30pmTICKET PRICES:$10 regular admission$8 seniors (62+)\n",
    "    return event.find('h4', attrs={'id':\"eb33ba\"})\n",
    "\n",
    "\n",
    "\n",
    "def get_event_show_times(event):\n",
    "    return\n",
    "\n",
    "def find_date_in_string(sentence):\n",
    "    # result from find_event_time_day function\n",
    "    days_of_the_week = ['monday', 'tuesday', 'wednesday', 'thursday', 'friday', 'saturday', 'sunday']\n",
    "    for day in days_of_the_week:\n",
    "        #if matches then return the day\n",
    "        if re.search(day, sentence, re.IGNORECASE):\n",
    "            return day\n",
    "        \n",
    "def find_time_in_string(sentence):\n",
    "    # result from find_event_time_day function\n",
    "    # this returns an array\n",
    "    time_parse_regex = re.compile('[0-9]+[:][0-9]+[a|p][m]')\n",
    "    return time_parse_regex.findall(sentence)\n",
    "\n",
    "def find_ticket_price(ticket_prices):\n",
    "    # result from find_event_time_day function\n",
    "    #param comes in as a string and should be returned as a dictionary\n",
    "    price_match = re.compile('TICKET PRICES.*')\n",
    "    price_match.findall(ticket_prices)\n",
    "    "
   ]
  },
  {
   "cell_type": "code",
   "execution_count": 824,
   "metadata": {},
   "outputs": [
    {
     "data": {
      "text/plain": [
       "'\\xa0Friday 8:15pm, Saturday 2:30pm and 8:15pm, Sunday 2:30pmTICKET PRICES:$10 regular admission$8 seniors (62+)'"
      ]
     },
     "execution_count": 824,
     "metadata": {},
     "output_type": "execute_result"
    }
   ],
   "source": [
    "ticket_prices = concerts[0].find('h4', attrs={'id':\"eb33ba\"}).text\n",
    "ticket_prices"
   ]
  },
  {
   "cell_type": "code",
   "execution_count": 825,
   "metadata": {},
   "outputs": [
    {
     "data": {
      "text/plain": [
       "['$10 regular admission$8 seniors (62+)']"
      ]
     },
     "execution_count": 825,
     "metadata": {},
     "output_type": "execute_result"
    }
   ],
   "source": [
    "price_match = re.compile('(?:TICKET PRICES\\:)+(.*)')\n",
    "string_prices= price_match.findall(ticket_prices)\n",
    "# ticket_match = re.compile('(\\$\\d+).')\n",
    "# prices = ticket_match.findall(string_prices[0])\n",
    "# prices\n",
    "string_prices"
   ]
  },
  {
   "cell_type": "code",
   "execution_count": 826,
   "metadata": {},
   "outputs": [
    {
     "data": {
      "text/plain": [
       "['12:30am', '8:15pm']"
      ]
     },
     "execution_count": 826,
     "metadata": {},
     "output_type": "execute_result"
    }
   ],
   "source": [
    "find_time_in_string(test_saturday)\n"
   ]
  },
  {
   "cell_type": "code",
   "execution_count": 827,
   "metadata": {},
   "outputs": [],
   "source": [
    "concert_blocks = []\n",
    "for body in concerts:\n",
    "    try:\n",
    "        var = body.h4.get_text()\n",
    "        if re.search(r'\\bCONCERT\\b',var) is None:\n",
    "            shows = {\"movies\": body.find_all('strong')}\n",
    "            concert_blocks.append(shows)\n",
    "        else:\n",
    "            shows = {\"concerts\": body.find_all('strong')}\n",
    "            concert_blocks.append(shows)\n",
    "    except AttributeError:\n",
    "        pass\n"
   ]
  },
  {
   "cell_type": "code",
   "execution_count": 828,
   "metadata": {},
   "outputs": [
    {
     "data": {
      "text/plain": [
       "[{'movies': [<strong> LAUREL &amp; HARDY FESTIVAL</strong>]},\n",
       " {'movies': []},\n",
       " {'movies': [<strong> BLOOD AND SAND</strong>]},\n",
       " {'movies': []},\n",
       " {'movies': [<strong> â¢ CONCERT  â¢</strong>,\n",
       "   <strong>RON RHODE</strong>,\n",
       "   <strong>on the Mighty Wurlitzer Theater Pipe Organ</strong>]},\n",
       " {'movies': []},\n",
       " {'movies': [<strong> WHITE HEAT</strong>]},\n",
       " {'movies': []},\n",
       " {'movies': [<strong> HOLLYWOOD HOME MOVIES</strong>,\n",
       "   <strong>Treasures from the Academy Film Archive</strong>]},\n",
       " {'movies': []},\n",
       " {'movies': [<strong> THE FRESHMAN</strong>]},\n",
       " {'movies': []},\n",
       " {'movies': [<strong>SCIENCE FICTION FILM FESTIVAL</strong>,\n",
       "   <strong>WHEN WORLDS COLLIDE</strong>]},\n",
       " {'movies': []},\n",
       " {'movies': [<strong>THE WAR OF THE WORLDS</strong>]},\n",
       " {'movies': []},\n",
       " {'movies': [<strong>PLAN 9 FROM OUTERSPACE</strong>]},\n",
       " {'movies': []},\n",
       " {'movies': [<strong>INVASION OF THE BODY SNATCHERS</strong>]},\n",
       " {'movies': []},\n",
       " {'movies': [<strong> THE WIZARD OF OZ</strong>]},\n",
       " {'movies': []},\n",
       " {'concerts': [<strong>FREDRICK HODGES &amp; RICHARD DOWLING</strong>,\n",
       "   <strong>â¢ </strong>]},\n",
       " {'movies': []},\n",
       " {'movies': [<strong> TOP HAT</strong>]},\n",
       " {'movies': []},\n",
       " {'concerts': [<strong>VAUDEVILLE ON FILM</strong>]},\n",
       " {'movies': []},\n",
       " {'movies': [<strong> </strong>, <strong>A DAY AT THE RACES</strong>]},\n",
       " {'movies': []},\n",
       " {'concerts': [<strong>JELANI EDDINGTON</strong>]},\n",
       " {'movies': []}]"
      ]
     },
     "execution_count": 828,
     "metadata": {},
     "output_type": "execute_result"
    }
   ],
   "source": [
    "concert_blocks\n"
   ]
  },
  {
   "cell_type": "code",
   "execution_count": 844,
   "metadata": {},
   "outputs": [],
   "source": [
    "movies = [items[\"movies\"] for items in concert_blocks if \"movies\" in items]\n",
    "concerts = [items[\"concerts\"] for items in concert_blocks if \"concerts\" in items]"
   ]
  },
  {
   "cell_type": "code",
   "execution_count": 845,
   "metadata": {},
   "outputs": [
    {
     "data": {
      "text/plain": [
       "[[<strong>FREDRICK HODGES &amp; RICHARD DOWLING</strong>,\n",
       "  <strong>â¢ </strong>],\n",
       " [<strong>VAUDEVILLE ON FILM</strong>],\n",
       " [<strong>JELANI EDDINGTON</strong>]]"
      ]
     },
     "execution_count": 845,
     "metadata": {},
     "output_type": "execute_result"
    }
   ],
   "source": [
    "concerts"
   ]
  },
  {
   "cell_type": "code",
   "execution_count": 831,
   "metadata": {},
   "outputs": [],
   "source": [
    "movie_flat_list = [item for sublist in movies for item in sublist]\n",
    "concerts_flat_list = [item for sublist in concerts for item in sublist]\n",
    "# for titles in concert_blocks:\n",
    "#     string = titles.get_text()\n",
    "#     clean_titles.append(string)"
   ]
  },
  {
   "cell_type": "code",
   "execution_count": 832,
   "metadata": {},
   "outputs": [
    {
     "data": {
      "text/plain": [
       "[<strong> LAUREL &amp; HARDY FESTIVAL</strong>,\n",
       " <strong> BLOOD AND SAND</strong>,\n",
       " <strong> â¢ CONCERT  â¢</strong>,\n",
       " <strong>RON RHODE</strong>,\n",
       " <strong>on the Mighty Wurlitzer Theater Pipe Organ</strong>,\n",
       " <strong> WHITE HEAT</strong>,\n",
       " <strong> HOLLYWOOD HOME MOVIES</strong>,\n",
       " <strong>Treasures from the Academy Film Archive</strong>,\n",
       " <strong> THE FRESHMAN</strong>,\n",
       " <strong>SCIENCE FICTION FILM FESTIVAL</strong>,\n",
       " <strong>WHEN WORLDS COLLIDE</strong>,\n",
       " <strong>THE WAR OF THE WORLDS</strong>,\n",
       " <strong>PLAN 9 FROM OUTERSPACE</strong>,\n",
       " <strong>INVASION OF THE BODY SNATCHERS</strong>,\n",
       " <strong> THE WIZARD OF OZ</strong>,\n",
       " <strong> TOP HAT</strong>,\n",
       " <strong> </strong>,\n",
       " <strong>A DAY AT THE RACES</strong>]"
      ]
     },
     "execution_count": 832,
     "metadata": {},
     "output_type": "execute_result"
    }
   ],
   "source": [
    "movie_flat_list\n"
   ]
  },
  {
   "cell_type": "code",
   "execution_count": 839,
   "metadata": {},
   "outputs": [],
   "source": [
    "new_movie_list = []\n",
    "for element in movie_flat_list:\n",
    "    new_movie_list.append(element.get_text().replace(u'\\xa0', u''))\n",
    "    \n",
    "new_concerts_list = []\n",
    "for element in concerts_flat_list:\n",
    "    new_concerts_list.append(element.get_text().replace(u'â\\x80¢\\xa0', u'').replace(u'\\xa0',u'').replace(u'â¢',u''))\n",
    "    "
   ]
  },
  {
   "cell_type": "code",
   "execution_count": 843,
   "metadata": {},
   "outputs": [
    {
     "data": {
      "text/plain": [
       "['LAUREL & HARDY FESTIVAL',\n",
       " 'BLOOD AND SAND',\n",
       " 'â\\x80¢ CONCERTâ\\x80¢',\n",
       " 'RON RHODE',\n",
       " 'on the Mighty Wurlitzer Theater Pipe Organ',\n",
       " 'WHITE HEAT',\n",
       " 'HOLLYWOOD HOME MOVIES',\n",
       " 'Treasures from the Academy Film Archive',\n",
       " 'THE FRESHMAN',\n",
       " 'SCIENCE FICTION FILM FESTIVAL',\n",
       " 'WHEN WORLDS COLLIDE',\n",
       " 'THE WAR OF THE WORLDS',\n",
       " 'PLAN 9 FROM OUTERSPACE',\n",
       " 'INVASION OF THE BODY SNATCHERS',\n",
       " 'THE WIZARD OF OZ',\n",
       " 'TOP HAT',\n",
       " 'A DAY AT THE RACES']"
      ]
     },
     "execution_count": 843,
     "metadata": {},
     "output_type": "execute_result"
    }
   ],
   "source": [
    "\n",
    "# for blanks in new_list:\n",
    "list(filter(None, new_movie_list))\n",
    "#list(filter(None, new_concerts_list))\n"
   ]
  },
  {
   "cell_type": "code",
   "execution_count": null,
   "metadata": {},
   "outputs": [],
   "source": []
  },
  {
   "cell_type": "code",
   "execution_count": 815,
   "metadata": {},
   "outputs": [],
   "source": [
    "times = []\n",
    "for showtimes in info:\n",
    "    var = showtimes.find_all('h4', attrs={'id':\"eb33ba\"})\n",
    "    #string_var = str(var)\n",
    "    times.append(var)\n",
    "    #time_parse_regex = re.compile(\"/(\\d(\\:\\d)?)+(?=\\w)+(am|pm)/g\")\n",
    "    #time_result = time_parse_regex"
   ]
  },
  {
   "cell_type": "code",
   "execution_count": 816,
   "metadata": {},
   "outputs": [
    {
     "data": {
      "text/plain": [
       "[[],\n",
       " [<h4 id=\"eb33ba\">Friday 8:15pm, Saturday 2:30pm and 8:15pm, Sunday 2:30pm<br/><br/>TICKET PRICES:<br/>$10 regular admission<br/>$8 seniors (62+)</h4>],\n",
       " [<h4 id=\"eb33ba\">Friday 8:15pm, Saturday 2:30pm and 8:15pm, Sunday 2:30pm<br/><br/>TICKET PRICES:<br/>$10 regular admission<br/>$8 seniors (62+)</h4>],\n",
       " [<h4 id=\"eb33ba\">Friday 8:15pm</h4>],\n",
       " [<h4 id=\"eb33ba\">Friday 8:15pm</h4>],\n",
       " [<h4 id=\"eb33ba\"> Saturday 2:30pm<br/><br/>TICKET PRICES:<br/>$10 regular admission<br/>$8 seniors (62+)</h4>],\n",
       " [<h4 id=\"eb33ba\"> Saturday 2:30pm<br/><br/>TICKET PRICES:<br/>$10 regular admission<br/>$8 seniors (62+)</h4>],\n",
       " [<h4 id=\"eb33ba\"> Saturday 8:15pm</h4>],\n",
       " [<h4 id=\"eb33ba\"> Saturday 8:15pm</h4>],\n",
       " [<h4 id=\"eb33ba\"> Saturday 2:30pm<br/><br/>TICKET PRICES:<br/>$10 regular admission<br/>$8 seniors (62+)</h4>],\n",
       " [<h4 id=\"eb33ba\"> Saturday 2:30pm<br/><br/>TICKET PRICES:<br/>$10 regular admission<br/>$8 seniors (62+)</h4>],\n",
       " [<h4 id=\"eb33ba\"> Friday 8:15pm, Saturday 2:30pm and 8:15pm<br/><br/>TICKET PRICES:<br/>$10 regular admission<br/>$8 seniors (62+)</h4>],\n",
       " [<h4 id=\"eb33ba\"> Friday 8:15pm, Saturday 2:30pm and 8:15pm<br/><br/>TICKET PRICES:<br/>$10 regular admission<br/>$8 seniors (62+)</h4>],\n",
       " [],\n",
       " [<h4 id=\"eb33ba\"> Friday 8:15pm, Saturday 2:30pm and 8:15pm, Sunday 2:30pm<br/><br/>TICKET PRICES:<br/>$10 regular admission<br/>$8 seniors (62+)</h4>],\n",
       " [<h4 id=\"eb33ba\"> Friday 8:15pm, Saturday 2:30pm and 8:15pm, Sunday 2:30pm<br/><br/>TICKET PRICES:<br/>$10 regular admission<br/>$8 seniors (62+)</h4>],\n",
       " [<h4 id=\"eb33ba\"> Friday 8:15pm, Saturday 2:30pm and 8:15pm<br/><br/>TICKET PRICES:<br/>$10 regular admission<br/>$8 seniors (62+)</h4>],\n",
       " [<h4 id=\"eb33ba\"> Friday 8:15pm, Saturday 2:30pm and 8:15pm<br/><br/>TICKET PRICES:<br/>$10 regular admission<br/>$8 seniors (62+)</h4>],\n",
       " [],\n",
       " [<h4 id=\"eb33ba\"> Friday 8:15pm, Saturday 2:30pm and 8:15pm<br/><br/>TICKET PRICES:<br/>$10 regular admission<br/>$8 seniors (62+)</h4>],\n",
       " [<h4 id=\"eb33ba\"> Friday 8:15pm, Saturday 2:30pm and 8:15pm<br/><br/>TICKET PRICES:<br/>$10 regular admission<br/>$8 seniors (62+)</h4>],\n",
       " [<h4 id=\"eb33ba\">Sunday 2:30pm<br/><br/>TICKET PRICES: ALL SEATS $10.00</h4>],\n",
       " [<h4 id=\"eb33ba\">Sunday 2:30pm<br/><br/>TICKET PRICES: ALL SEATS $10.00</h4>],\n",
       " [<h4 id=\"eb33ba\">TICKET PRICES:<br/>$10 regular admission<br/>$8 seniors (62+)</h4>,\n",
       "  <h4 id=\"eb33ba\">Film tickets are not available on-line.  Tickets are on sale at the theater's box office 30-minutes before each show time. </h4>],\n",
       " [<h4 id=\"eb33ba\">TICKET PRICES:<br/>$10 regular admission<br/>$8 seniors (62+)</h4>,\n",
       "  <h4 id=\"eb33ba\">Film tickets are not available on-line.  Tickets are on sale at the theater's box office 30-minutes before each show time. </h4>],\n",
       " [<h4 id=\"eb33ba\">TICKET PRICES:<br/>$10 regular admission<br/>$8 seniors (62+)</h4>,\n",
       "  <h4 id=\"eb33ba\">Film tickets are not available on-line.  Tickets are on sale at the theater's box office 30-minutes before each show time. </h4>],\n",
       " [<h4 id=\"eb33ba\">TICKET PRICES:<br/>$10 regular admission<br/>$8 seniors (62+)</h4>,\n",
       "  <h4 id=\"eb33ba\">Film tickets are not available on-line.  Tickets are on sale at the theater's box office 30-minutes before each show time. </h4>],\n",
       " [<h4 id=\"eb33ba\">TICKET PRICES:<br/>$10 regular admission<br/>$8 seniors (62+)</h4>,\n",
       "  <h4 id=\"eb33ba\">Film tickets are not available on-line.  Tickets are on sale at the theater's box office 30-minutes before each show time. </h4>],\n",
       " [<h4 id=\"eb33ba\">TICKET PRICES:<br/>$10 regular admission<br/>$8 seniors (62+)</h4>,\n",
       "  <h4 id=\"eb33ba\">Film tickets are not available on-line.  Tickets are on sale at the theater's box office 30-minutes before each show time. </h4>],\n",
       " [<h4 id=\"eb33ba\">TICKET PRICES:<br/>$10 regular admission<br/>$8 seniors (62+)</h4>,\n",
       "  <h4 id=\"eb33ba\">Film tickets are not available on-line.  Tickets are on sale at the theater's box office 30-minutes before each show time. </h4>],\n",
       " [<h4 id=\"eb33ba\">TICKET PRICES:<br/>$10 regular admission<br/>$8 seniors (62+)</h4>,\n",
       "  <h4 id=\"eb33ba\">Film tickets are not available on-line.  Tickets are on sale at the theater's box office 30-minutes before each show time. </h4>],\n",
       " [<h4 id=\"eb33ba\">TICKET PRICES:<br/>$10 regular admission<br/>$8 seniors (62+)</h4>,\n",
       "  <h4 id=\"eb33ba\">Film tickets are not available on-line.  Tickets are on sale at the theater's box office 30-minutes before each show time. </h4>],\n",
       " [<h4 id=\"eb33ba\">TICKET PRICES:<br/>$10 regular admission<br/>$8 seniors (62+)</h4>,\n",
       "  <h4 id=\"eb33ba\">Film tickets are not available on-line.  Tickets are on sale at the theater's box office 30-minutes before each show time. </h4>],\n",
       " [<h4 id=\"eb33ba\">TICKET PRICES:<br/>$10 regular admission<br/>$8 seniors (62+)</h4>,\n",
       "  <h4 id=\"eb33ba\">Film tickets are not available on-line.  Tickets are on sale at the theater's box office 30-minutes before each show time. </h4>],\n",
       " [<h4 id=\"eb33ba\">TICKET PRICES:<br/>$10 regular admission<br/>$8 seniors (62+)</h4>,\n",
       "  <h4 id=\"eb33ba\">Film tickets are not available on-line.  Tickets are on sale at the theater's box office 30-minutes before each show time. </h4>],\n",
       " [],\n",
       " [<h4 id=\"eb33ba\">TICKET PRICES:<br/>$10 regular admission<br/>$8 seniors (62+)</h4>,\n",
       "  <h4 id=\"eb33ba\">Film tickets are not available on-line.  Tickets are on sale at the theater's box office 30-minutes before each show time. </h4>],\n",
       " [<h4 id=\"eb33ba\">TICKET PRICES:<br/>$10 regular admission<br/>$8 seniors (62+)</h4>,\n",
       "  <h4 id=\"eb33ba\">Film tickets are not available on-line.  Tickets are on sale at the theater's box office 30-minutes before each show time. </h4>],\n",
       " [],\n",
       " [<h4 id=\"eb33ba\">TICKET PRICES:<br/>$10 regular admission<br/>$8 seniors (62+)</h4>,\n",
       "  <h4 id=\"eb33ba\">Film tickets are not available on-line.  Tickets are on sale at the theater's box office 30-minutes before each show time. </h4>],\n",
       " [<h4 id=\"eb33ba\">TICKET PRICES:<br/>$10 regular admission<br/>$8 seniors (62+)</h4>,\n",
       "  <h4 id=\"eb33ba\">Film tickets are not available on-line.  Tickets are on sale at the theater's box office 30-minutes before each show time. </h4>],\n",
       " []]"
      ]
     },
     "execution_count": 816,
     "metadata": {},
     "output_type": "execute_result"
    }
   ],
   "source": [
    "times"
   ]
  },
  {
   "cell_type": "code",
   "execution_count": 817,
   "metadata": {},
   "outputs": [],
   "source": [
    "restructured_movie_list =[]\n",
    "for title in info:\n",
    "\tvar = title.find_all(\"strong\")\n",
    "\trestructured_movie_list.append(var)\n",
    "\t# dictiorary ={\n",
    "\t# \t'title': title.select(\"p.span.strong\")\n",
    "\t# }\n",
    "\t# info.append(dictiorary)\n",
    "\t# print(\"this is what i am itereating over; %s\" % (title))\n",
    "\n",
    "\n"
   ]
  },
  {
   "cell_type": "code",
   "execution_count": null,
   "metadata": {},
   "outputs": [],
   "source": []
  },
  {
   "cell_type": "code",
   "execution_count": 818,
   "metadata": {},
   "outputs": [
    {
     "name": "stdout",
     "output_type": "stream",
     "text": [
      "[[], [<strong>ALL STAR COMEDY FESTIVAL</strong>], [], [<strong>A SALUTE TO MICKEY AND JUDY</strong>, <strong>Screen legends Mickey Rooney and Judy Garland made ten musicals together from 1937-1948. Join us as we celebrate some of their best!</strong>, <strong>BABES IN ARMS</strong>], [], [<strong>STRIKE UP THE BAND</strong>], [], [<strong>BABES ON BROADWAY</strong>], [], [<strong>GIRL CRAZY</strong>], [], [<strong> FEET FIRST</strong>], [], [], [<strong> LAUREL &amp; HARDY FESTIVAL</strong>], [], [<strong> BLOOD AND SAND</strong>], [], [], [<strong> WHITE HEAT</strong>], [], [<strong> HOLLYWOOD HOME MOVIES</strong>, <strong>Treasures from the Academy Film Archive</strong>], [], [<strong> THE FRESHMAN</strong>], [], [<strong>SCIENCE FICTION FILM FESTIVAL</strong>, <strong>WHEN WORLDS COLLIDE</strong>], [], [<strong>THE WAR OF THE WORLDS</strong>], [], [<strong>PLAN 9 FROM OUTERSPACE</strong>], [], [<strong>INVASION OF THE BODY SNATCHERS</strong>], [], [<strong> THE WIZARD OF OZ</strong>], [], [], [<strong> TOP HAT</strong>], [], [], [<strong> </strong>, <strong>A DAY AT THE RACES</strong>], [], []]\n"
     ]
    }
   ],
   "source": [
    "print(restructured_movie_list)"
   ]
  },
  {
   "cell_type": "code",
   "execution_count": 819,
   "metadata": {},
   "outputs": [
    {
     "name": "stdout",
     "output_type": "stream",
     "text": [
      "['$10', '$8']\n"
     ]
    }
   ],
   "source": [
    "#!/usr/bin/python\n",
    "import re\n",
    "# import BeautifulSoup\n",
    "\n",
    "def ticket_price_parser(price_string):\n",
    "    price_match = re.compile('\\$\\d+')\n",
    "    return price_match.findall(price_string)\n",
    "\n",
    "def show_time_parser(show_string):\n",
    "    show_match = re.compile('\\$\\d+')\n",
    "    return show_match.findall(price_string)\n",
    "\n",
    "def find_date_in_string(show_time_string):\n",
    "    # result from find_event_time_day function\n",
    "    days_of_the_week = ['monday', 'tuesday', 'wednesday', 'thursday', 'friday', 'saturday', 'sunday']\n",
    "    for day in days_of_the_week:\n",
    "        #if matches then return the day\n",
    "        if re.search(day, show_time_string, re.IGNORECASE):\n",
    "            return day\n",
    "        \n",
    "def find_time_in_string(show_time_string):\n",
    "    # result from find_event_time_day function\n",
    "    # this returns an array\n",
    "    time_parse_regex = re.compile('[0-9]+[:][0-9]+[a|p][m]')\n",
    "    return time_parse_regex.findall(show_time_string)\n",
    "\n",
    "def show_title_parser(show_string):\n",
    "    pass\n",
    "\n",
    "\n",
    "class Events:\n",
    "    num_of_events = 0\n",
    "\n",
    "    def __init__(self, title, showtimes, ticket_prices):\n",
    "        self.title = title\n",
    "        self.showtimes = showtimes\n",
    "        self.ticket_prices = ticket_prices\n",
    "\n",
    "        Events.num_of_events +=1\n",
    "\n",
    "    def fullname(self):\n",
    "        return '{} {}'.format(self.first, self.last)\n",
    "\n",
    "    @classmethod\n",
    "    def from_string(cls, event_string):\n",
    "        title = show_title_parser(event_string)\n",
    "        showtimes = show_time_parser(event_string)\n",
    "        ticket_prices = ticket_price_parser(event_string)\n",
    "        return cls(title, showtimes, ticket_prices)\n",
    "\n",
    "\n",
    "\n",
    "class Concert(Events):\n",
    "    type = 'concert'\n",
    "    pass\n",
    "\n",
    "class Movie(Events):\n",
    "    type = 'movie'\n",
    "    pass\n",
    "\n",
    "# movie1 = Movie('Great Gaspy', {\"monday\": \"10:00pm\"}, {'general_admission' : '$10'})\n",
    "# print(movie1.__dict__)\n",
    "\n",
    "event_string = 'Friday 8:15pm, Saturday 2:30pm and 8:15pm, Sunday 2:30pmTICKET PRICES:$10 regular admission$8 seniors (62+)'\n",
    "print(ticket_price_parser(event_string))"
   ]
  },
  {
   "cell_type": "code",
   "execution_count": null,
   "metadata": {},
   "outputs": [],
   "source": []
  }
 ],
 "metadata": {
  "kernelspec": {
   "display_name": "Python 3",
   "language": "python",
   "name": "python3"
  },
  "language_info": {
   "codemirror_mode": {
    "name": "ipython",
    "version": 3
   },
   "file_extension": ".py",
   "mimetype": "text/x-python",
   "name": "python",
   "nbconvert_exporter": "python",
   "pygments_lexer": "ipython3",
   "version": "3.6.4"
  }
 },
 "nbformat": 4,
 "nbformat_minor": 2
}
